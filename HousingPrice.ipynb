{
  "nbformat": 4,
  "nbformat_minor": 0,
  "metadata": {
    "colab": {
      "provenance": [],
      "authorship_tag": "ABX9TyOToP2r9ZIVHTwM3ZmSNBwu"
    },
    "kernelspec": {
      "name": "python3",
      "display_name": "Python 3"
    },
    "language_info": {
      "name": "python"
    }
  },
  "cells": [
    {
      "cell_type": "code",
      "source": [
        "# Linear Regression Model\n",
        "\n",
        "import pandas as pd\n",
        "from sklearn.linear_model import LinearRegression\n",
        "from sklearn.model_selection import train_test_split\n",
        "from sklearn.metrics import r2_score\n",
        "\n",
        "# Load the Boston Housing dataset\n",
        "data = pd.read_csv(\"https://archive.ics.uci.edu/ml/machine-learning-databases/housing/housing.data\", header=None, sep=\"\\s+\")\n",
        "data.columns = [\"CRIM\", \"ZN\", \"INDUS\", \"CHAS\", \"NOX\", \"RM\", \"AGE\", \"DIS\", \"RAD\", \"TAX\", \"PTRATIO\", \"B\", \"LSTAT\", \"MEDV\"]\n",
        "\n",
        "# Select the input and output features\n",
        "X = data[[\"RM\", \"LSTAT\", \"PTRATIO\"]]\n",
        "y = data[\"MEDV\"]\n",
        "\n",
        "# Split the data into training and testing sets\n",
        "X_train, X_test, y_train, y_test = train_test_split(X, y, test_size=0.3, random_state=42)\n",
        "\n",
        "# Train a linear regression model\n",
        "model = LinearRegression()\n",
        "model.fit(X_train, y_train)\n",
        "\n",
        "# Make predictions on the testing set\n",
        "y_pred = model.predict(X_test)\n",
        "\n",
        "# Calculate the R-squared score (a common accuracy metric for regression models)\n",
        "r2 = r2_score(y_test, y_pred)\n",
        "\n",
        "# Print the R-squared score\n",
        "print(\"R-squared score:\", r2)\n"
      ],
      "metadata": {
        "colab": {
          "base_uri": "https://localhost:8080/"
        },
        "id": "ykZM--_G4F3e",
        "outputId": "867f42af-d29b-429a-9877-59b7b2650560"
      },
      "execution_count": 33,
      "outputs": [
        {
          "output_type": "stream",
          "name": "stdout",
          "text": [
            "R-squared score: 0.650904156861472\n"
          ]
        }
      ]
    },
    {
      "cell_type": "code",
      "source": [
        "# support vector regression (SVR) model\n",
        "\n",
        "import pandas as pd\n",
        "from sklearn.svm import SVR\n",
        "from sklearn.model_selection import train_test_split\n",
        "from sklearn.metrics import r2_score\n",
        "\n",
        "# Load the Boston Housing dataset\n",
        "data = pd.read_csv(\"https://archive.ics.uci.edu/ml/machine-learning-databases/housing/housing.data\", header=None, sep=\"\\s+\")\n",
        "data.columns = [\"CRIM\", \"ZN\", \"INDUS\", \"CHAS\", \"NOX\", \"RM\", \"AGE\", \"DIS\", \"RAD\", \"TAX\", \"PTRATIO\", \"B\", \"LSTAT\", \"MEDV\"]\n",
        "\n",
        "# Select the input and output features\n",
        "X = data[[\"RM\", \"LSTAT\", \"PTRATIO\"]]\n",
        "y = data[\"MEDV\"]\n",
        "\n",
        "# Split the data into training and testing sets\n",
        "X_train, X_test, y_train, y_test = train_test_split(X, y, test_size=0.3, random_state=42)\n",
        "\n",
        "# Train an SVR model\n",
        "model = SVR(kernel=\"linear\", C=1.0, epsilon=0.1)\n",
        "model.fit(X_train, y_train)\n",
        "\n",
        "# Make predictions on the testing set\n",
        "y_pred = model.predict(X_test)\n",
        "\n",
        "# Calculate the R-squared score (a common accuracy metric for regression models)\n",
        "r2 = r2_score(y_test, y_pred)\n",
        "\n",
        "# Print the R-squared score\n",
        "print(\"R-squared score:\", r2)\n"
      ],
      "metadata": {
        "colab": {
          "base_uri": "https://localhost:8080/"
        },
        "id": "9zd6ETdr7OqT",
        "outputId": "11373d96-c990-41c6-a8d8-8bd96944ee00"
      },
      "execution_count": 34,
      "outputs": [
        {
          "output_type": "stream",
          "name": "stdout",
          "text": [
            "R-squared score: 0.6493482803030897\n"
          ]
        }
      ]
    },
    {
      "cell_type": "code",
      "source": [
        "# random forest regression model\n",
        "\n",
        "import pandas as pd\n",
        "from sklearn.ensemble import RandomForestRegressor\n",
        "from sklearn.model_selection import train_test_split\n",
        "from sklearn.metrics import r2_score\n",
        "\n",
        "# Load the Boston Housing dataset\n",
        "data = pd.read_csv(\"https://archive.ics.uci.edu/ml/machine-learning-databases/housing/housing.data\", header=None, sep=\"\\s+\")\n",
        "data.columns = [\"CRIM\", \"ZN\", \"INDUS\", \"CHAS\", \"NOX\", \"RM\", \"AGE\", \"DIS\", \"RAD\", \"TAX\", \"PTRATIO\", \"B\", \"LSTAT\", \"MEDV\"]\n",
        "\n",
        "# Select the input and output features\n",
        "X = data[[\"RM\", \"LSTAT\", \"PTRATIO\"]]\n",
        "y = data[\"MEDV\"]\n",
        "\n",
        "# Split the data into training and testing sets\n",
        "X_train, X_test, y_train, y_test = train_test_split(X, y, test_size=0.3, random_state=42)\n",
        "\n",
        "# Train a random forest regression model\n",
        "model = RandomForestRegressor(n_estimators=100, random_state=42)\n",
        "model.fit(X_train, y_train)\n",
        "\n",
        "# Make predictions on the testing set\n",
        "y_pred = model.predict(X_test)\n",
        "\n",
        "# Calculate the R-squared score (a common accuracy metric for regression models)\n",
        "r2 = r2_score(y_test, y_pred)\n",
        "\n",
        "# Print the R-squared score\n",
        "print(\"R-squared score:\", r2)\n"
      ],
      "metadata": {
        "colab": {
          "base_uri": "https://localhost:8080/"
        },
        "id": "cvOUUW967Q-H",
        "outputId": "7b965fc0-837e-491c-d5d5-d838809fb163"
      },
      "execution_count": 35,
      "outputs": [
        {
          "output_type": "stream",
          "name": "stdout",
          "text": [
            "R-squared score: 0.779597922742391\n"
          ]
        }
      ]
    },
    {
      "cell_type": "code",
      "source": [
        "# gradient boosting regression model\n",
        "\n",
        "import pandas as pd\n",
        "from sklearn.ensemble import GradientBoostingRegressor\n",
        "from sklearn.model_selection import train_test_split\n",
        "from sklearn.metrics import r2_score\n",
        "\n",
        "# Load the Boston Housing dataset\n",
        "data = pd.read_csv(\"https://archive.ics.uci.edu/ml/machine-learning-databases/housing/housing.data\", header=None, sep=\"\\s+\")\n",
        "data.columns = [\"CRIM\", \"ZN\", \"INDUS\", \"CHAS\", \"NOX\", \"RM\", \"AGE\", \"DIS\", \"RAD\", \"TAX\", \"PTRATIO\", \"B\", \"LSTAT\", \"MEDV\"]\n",
        "\n",
        "# Select the input and output features\n",
        "X = data[[\"RM\", \"LSTAT\", \"PTRATIO\"]]\n",
        "y = data[\"MEDV\"]\n",
        "\n",
        "# Split the data into training and testing sets\n",
        "X_train, X_test, y_train, y_test = train_test_split(X, y, test_size=0.3, random_state=42)\n",
        "\n",
        "# Train a gradient boosting regression model\n",
        "model = GradientBoostingRegressor(n_estimators=100, learning_rate=0.1, max_depth=3, random_state=42)\n",
        "model.fit(X_train, y_train)\n",
        "\n",
        "# Make predictions on the testing set\n",
        "y_pred = model.predict(X_test)\n",
        "\n",
        "# Calculate the R-squared score (a common accuracy metric for regression models)\n",
        "r2 = r2_score(y_test, y_pred)\n",
        "\n",
        "# Print the R-squared score\n",
        "print(\"R-squared score:\", r2)\n"
      ],
      "metadata": {
        "colab": {
          "base_uri": "https://localhost:8080/"
        },
        "id": "y_DGTv5L7uPE",
        "outputId": "47f07695-6763-49cd-89f5-3c5e9d705e77"
      },
      "execution_count": 36,
      "outputs": [
        {
          "output_type": "stream",
          "name": "stdout",
          "text": [
            "R-squared score: 0.756325877583729\n"
          ]
        }
      ]
    },
    {
      "cell_type": "code",
      "source": [
        "# neural network regression model\n",
        "\n",
        "import pandas as pd\n",
        "from sklearn.model_selection import train_test_split\n",
        "from sklearn.preprocessing import StandardScaler\n",
        "from tensorflow.keras.models import Sequential\n",
        "from tensorflow.keras.layers import Dense\n",
        "from sklearn.metrics import r2_score\n",
        "\n",
        "# Load the Boston Housing dataset\n",
        "data = pd.read_csv(\"https://archive.ics.uci.edu/ml/machine-learning-databases/housing/housing.data\", header=None, sep=\"\\s+\")\n",
        "data.columns = [\"CRIM\", \"ZN\", \"INDUS\", \"CHAS\", \"NOX\", \"RM\", \"AGE\", \"DIS\", \"RAD\", \"TAX\", \"PTRATIO\", \"B\", \"LSTAT\", \"MEDV\"]\n",
        "\n",
        "# Select the input and output features\n",
        "X = data[[\"RM\", \"LSTAT\", \"PTRATIO\"]]\n",
        "y = data[\"MEDV\"]\n",
        "\n",
        "# Split the data into training and testing sets\n",
        "X_train, X_test, y_train, y_test = train_test_split(X, y, test_size=0.3, random_state=42)\n",
        "\n",
        "# Scale the input features\n",
        "scaler = StandardScaler()\n",
        "X_train = scaler.fit_transform(X_train)\n",
        "X_test = scaler.transform(X_test)\n",
        "\n",
        "# Build a neural network regression model\n",
        "model = Sequential()\n",
        "model.add(Dense(64, input_dim=3, activation=\"relu\"))\n",
        "model.add(Dense(32, activation=\"relu\"))\n",
        "model.add(Dense(1, activation=\"linear\"))\n",
        "model.compile(loss=\"mean_squared_error\", optimizer=\"adam\")\n",
        "\n",
        "# Train the model\n",
        "model.fit(X_train, y_train, epochs=100, batch_size=32, verbose=0)\n",
        "\n",
        "# Make predictions on the testing set\n",
        "y_pred = model.predict(X_test)\n",
        "\n",
        "# Calculate the R-squared score (a common accuracy metric for regression models)\n",
        "r2 = r2_score(y_test, y_pred)\n",
        "\n",
        "# Print the R-squared score\n",
        "print(\"R-squared score:\", r2)"
      ],
      "metadata": {
        "colab": {
          "base_uri": "https://localhost:8080/"
        },
        "id": "Er0xHFU-77PW",
        "outputId": "aa127125-d1b4-4b5a-b861-2a8da9ac16ab"
      },
      "execution_count": 37,
      "outputs": [
        {
          "output_type": "stream",
          "name": "stdout",
          "text": [
            "5/5 [==============================] - 0s 3ms/step\n",
            "R-squared score: 0.7676306330090721\n"
          ]
        }
      ]
    },
    {
      "cell_type": "code",
      "source": [
        "# K-nearest neighbors regression\n",
        "\n",
        "import pandas as pd\n",
        "from sklearn.model_selection import train_test_split\n",
        "from sklearn.preprocessing import StandardScaler\n",
        "from sklearn.neighbors import KNeighborsRegressor\n",
        "from sklearn.metrics import r2_score\n",
        "\n",
        "# Load the Boston Housing dataset\n",
        "data = pd.read_csv(\"https://archive.ics.uci.edu/ml/machine-learning-databases/housing/housing.data\", header=None, sep=\"\\s+\")\n",
        "data.columns = [\"CRIM\", \"ZN\", \"INDUS\", \"CHAS\", \"NOX\", \"RM\", \"AGE\", \"DIS\", \"RAD\", \"TAX\", \"PTRATIO\", \"B\", \"LSTAT\", \"MEDV\"]\n",
        "\n",
        "# Select the input and output features\n",
        "X = data[[\"RM\", \"LSTAT\", \"PTRATIO\"]]\n",
        "y = data[\"MEDV\"]\n",
        "\n",
        "# Split the data into training and testing sets\n",
        "X_train, X_test, y_train, y_test = train_test_split(X, y, test_size=0.3, random_state=42)\n",
        "\n",
        "# Scale the input features\n",
        "scaler = StandardScaler()\n",
        "X_train = scaler.fit_transform(X_train)\n",
        "X_test = scaler.transform(X_test)\n",
        "\n",
        "# Build a K-nearest neighbors regression model\n",
        "model = KNeighborsRegressor(n_neighbors=5, weights=\"distance\")\n",
        "\n",
        "# Train the model\n",
        "model.fit(X_train, y_train)\n",
        "\n",
        "# Make predictions on the testing set\n",
        "y_pred = model.predict(X_test)\n",
        "\n",
        "# Calculate the R-squared score (a common accuracy metric for regression models)\n",
        "r2 = r2_score(y_test, y_pred)\n",
        "\n",
        "# Print the R-squared score\n",
        "print(\"R-squared score:\", r2)\n"
      ],
      "metadata": {
        "colab": {
          "base_uri": "https://localhost:8080/"
        },
        "id": "Va5uzF_j8HlF",
        "outputId": "a0182a83-e44b-4585-cea1-b62847870399"
      },
      "execution_count": 38,
      "outputs": [
        {
          "output_type": "stream",
          "name": "stdout",
          "text": [
            "R-squared score: 0.7694539011050399\n"
          ]
        }
      ]
    },
    {
      "cell_type": "code",
      "source": [
        "# Decision tree regression\n",
        "\n",
        "import pandas as pd\n",
        "from sklearn.model_selection import train_test_split\n",
        "from sklearn.preprocessing import StandardScaler\n",
        "from sklearn.tree import DecisionTreeRegressor\n",
        "from sklearn.metrics import r2_score\n",
        "\n",
        "# Load the Boston Housing dataset\n",
        "data = pd.read_csv(\"https://archive.ics.uci.edu/ml/machine-learning-databases/housing/housing.data\", header=None, sep=\"\\s+\")\n",
        "data.columns = [\"CRIM\", \"ZN\", \"INDUS\", \"CHAS\", \"NOX\", \"RM\", \"AGE\", \"DIS\", \"RAD\", \"TAX\", \"PTRATIO\", \"B\", \"LSTAT\", \"MEDV\"]\n",
        "\n",
        "# Select the input and output features\n",
        "X = data[[\"RM\", \"LSTAT\", \"PTRATIO\"]]\n",
        "y = data[\"MEDV\"]\n",
        "\n",
        "# Split the data into training and testing sets\n",
        "X_train, X_test, y_train, y_test = train_test_split(X, y, test_size=0.3, random_state=42)\n",
        "\n",
        "# Scale the input features\n",
        "scaler = StandardScaler()\n",
        "X_train = scaler.fit_transform(X_train)\n",
        "X_test = scaler.transform(X_test)\n",
        "\n",
        "# Build a Decision tree regression model\n",
        "model = DecisionTreeRegressor(random_state=42)\n",
        "\n",
        "# Train the model\n",
        "model.fit(X_train, y_train)\n",
        "\n",
        "# Make predictions on the testing set\n",
        "y_pred = model.predict(X_test)\n",
        "\n",
        "# Calculate the R-squared score (a common accuracy metric for regression models)\n",
        "r2 = r2_score(y_test, y_pred)\n",
        "\n",
        "# Print the R-squared score\n",
        "print(\"R-squared score:\", r2)\n"
      ],
      "metadata": {
        "colab": {
          "base_uri": "https://localhost:8080/"
        },
        "id": "yidbfhXC8SiG",
        "outputId": "a9ec7ccf-9cc9-4956-e957-8a644905a483"
      },
      "execution_count": 39,
      "outputs": [
        {
          "output_type": "stream",
          "name": "stdout",
          "text": [
            "R-squared score: 0.5280986693762859\n"
          ]
        }
      ]
    },
    {
      "cell_type": "code",
      "source": [
        "#                                                                          Position\n",
        "# Linear Regression : R-squared score: 0.650904156861472                  | 5th\n",
        "# Support Vector Regression (SVR) : R-squared score: 0.6493482803030897   | 6th\n",
        "# Random Forest Regression : R-squared score: 0.779597922742391           | 1st\n",
        "# Gradient Boosting Regression : R-squared score: 0.756325877583729       | 4th\n",
        "# Neural Networks : R-squared score: 0.7676306330090721                   | 3rd\n",
        "# K-Nearest Neighbors Regression : R-squared score: 0.7694539011050399    | 2nd\n",
        "# Decision Tree Regression : R-squared score: 0.5280986693762859          | 7th"
      ],
      "metadata": {
        "id": "3ohwheS99omv"
      },
      "execution_count": 43,
      "outputs": []
    },
    {
      "cell_type": "code",
      "source": [
        "# Highest was random forrest regression model\n",
        "\n",
        "# performing Test on random forrest regression model\n",
        "# Ask the user to input values for the features\n",
        "rm = float(input(\"Enter the average number of rooms per dwelling (RM): \"))\n",
        "lstat = float(input(\"Enter the percentage of lower status of the population (LSTAT): \"))\n",
        "ptratio = float(input(\"Enter the pupil-teacher ratio by town (PTRATIO): \"))\n",
        "\n",
        "# Create a dataframe with the user inputs\n",
        "user_inputs = pd.DataFrame({\"RM\": [rm], \"LSTAT\": [lstat], \"PTRATIO\": [ptratio]})\n",
        "\n",
        "# Scale the user inputs using the same scaler used for training the model\n",
        "user_inputs_scaled = scaler.transform(user_inputs)\n",
        "\n",
        "# Use the trained random forest regression model to make a prediction on the user inputs\n",
        "predicted_price = model.predict(user_inputs_scaled)\n",
        "\n",
        "# Print the predicted MEDV value for the user inputs\n",
        "print(\"Predicted MEDV value:\", predicted_price[0])\n"
      ],
      "metadata": {
        "colab": {
          "base_uri": "https://localhost:8080/"
        },
        "id": "G7W8AsOj9BSB",
        "outputId": "58710ca2-8c98-4604-967a-fe996327b0c0"
      },
      "execution_count": 41,
      "outputs": [
        {
          "output_type": "stream",
          "name": "stdout",
          "text": [
            "Enter the average number of rooms per dwelling (RM): 6.5\n",
            "Enter the percentage of lower status of the population (LSTAT): 5\n",
            "Enter the pupil-teacher ratio by town (PTRATIO): 15\n",
            "Predicted MEDV value: 24.8\n"
          ]
        }
      ]
    }
  ]
}